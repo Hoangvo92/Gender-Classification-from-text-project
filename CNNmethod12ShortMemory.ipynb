{
 "cells": [
  {
   "cell_type": "code",
   "execution_count": null,
   "metadata": {},
   "outputs": [],
   "source": []
  },
  {
   "cell_type": "code",
   "execution_count": null,
   "metadata": {},
   "outputs": [],
   "source": []
  },
  {
   "cell_type": "code",
   "execution_count": null,
   "metadata": {},
   "outputs": [],
   "source": []
  },
  {
   "cell_type": "code",
   "execution_count": null,
   "metadata": {},
   "outputs": [],
   "source": []
  },
  {
   "cell_type": "markdown",
   "metadata": {},
   "source": [
    "## Loading and clean Dataset"
   ]
  },
  {
   "cell_type": "code",
   "execution_count": 1,
   "metadata": {},
   "outputs": [
    {
     "name": "stderr",
     "output_type": "stream",
     "text": [
      "Using TensorFlow backend.\n"
     ]
    }
   ],
   "source": [
    "import numpy as np\n",
    "import pandas as pd\n",
    "import matplotlib.pyplot as plt\n",
    "import seaborn as sns\n",
    "\n",
    "from bs4 import BeautifulSoup\n",
    "import string\n",
    "\n",
    "import re\n",
    "\n",
    "from sklearn.feature_extraction.text import CountVectorizer\n",
    "from sklearn.model_selection import train_test_split\n",
    "from sklearn.linear_model import LogisticRegression\n",
    "from sklearn.metrics import f1_score\n",
    "from sklearn import metrics\n",
    "\n",
    "from sklearn.ensemble import RandomForestClassifier\n",
    "from sklearn.svm import SVC\n",
    "from sklearn.metrics import accuracy_score, classification_report, confusion_matrix\n",
    "from sklearn.pipeline import Pipeline\n",
    "from sklearn.feature_extraction.text import TfidfVectorizer\n",
    "\n",
    "from keras.optimizers import Adam\n",
    "from keras.preprocessing.text import Tokenizer\n",
    "from keras.preprocessing.sequence import pad_sequences\n",
    "from keras.models import Sequential, Model\n",
    "from keras.layers import LSTM, SpatialDropout1D, Dense, Dropout, Reshape, Flatten, concatenate, Input, Conv1D, MaxPooling1D, GlobalMaxPooling1D, Embedding\n",
    "from sklearn.model_selection import train_test_split\n",
    "from keras.utils.np_utils import to_categorical\n",
    "from keras.callbacks import EarlyStopping\n",
    "from keras.layers import Dropout"
   ]
  },
  {
   "cell_type": "code",
   "execution_count": 2,
   "metadata": {},
   "outputs": [
    {
     "data": {
      "text/html": [
       "<div>\n",
       "<style scoped>\n",
       "    .dataframe tbody tr th:only-of-type {\n",
       "        vertical-align: middle;\n",
       "    }\n",
       "\n",
       "    .dataframe tbody tr th {\n",
       "        vertical-align: top;\n",
       "    }\n",
       "\n",
       "    .dataframe thead th {\n",
       "        text-align: right;\n",
       "    }\n",
       "</style>\n",
       "<table border=\"1\" class=\"dataframe\">\n",
       "  <thead>\n",
       "    <tr style=\"text-align: right;\">\n",
       "      <th></th>\n",
       "      <th>Text</th>\n",
       "      <th>class</th>\n",
       "    </tr>\n",
       "  </thead>\n",
       "  <tbody>\n",
       "    <tr>\n",
       "      <th>0</th>\n",
       "      <td>Guest Demo: Eric Iverson’s Itty Bitty Search\\...</td>\n",
       "      <td>M</td>\n",
       "    </tr>\n",
       "    <tr>\n",
       "      <th>1</th>\n",
       "      <td>Who moved my Cheese???   The world has been de...</td>\n",
       "      <td>M</td>\n",
       "    </tr>\n",
       "    <tr>\n",
       "      <th>2</th>\n",
       "      <td>Yesterday I attended a biweekly meeting of an...</td>\n",
       "      <td>M</td>\n",
       "    </tr>\n",
       "    <tr>\n",
       "      <th>3</th>\n",
       "      <td>Liam is nothing like Natalie. Natalie never w...</td>\n",
       "      <td>F</td>\n",
       "    </tr>\n",
       "    <tr>\n",
       "      <th>4</th>\n",
       "      <td>In the EU we have browser choice, but few know...</td>\n",
       "      <td>M</td>\n",
       "    </tr>\n",
       "    <tr>\n",
       "      <th>...</th>\n",
       "      <td>...</td>\n",
       "      <td>...</td>\n",
       "    </tr>\n",
       "    <tr>\n",
       "      <th>3226</th>\n",
       "      <td>It was a scavenger style race with checkpoints...</td>\n",
       "      <td>M</td>\n",
       "    </tr>\n",
       "    <tr>\n",
       "      <th>3227</th>\n",
       "      <td>Finally! I got a full day's work done. Almost ...</td>\n",
       "      <td>F</td>\n",
       "    </tr>\n",
       "    <tr>\n",
       "      <th>3228</th>\n",
       "      <td>At the height of laughter, the universe is flu...</td>\n",
       "      <td>M</td>\n",
       "    </tr>\n",
       "    <tr>\n",
       "      <th>3229</th>\n",
       "      <td>I like birds, especially woodpeckers and MOST ...</td>\n",
       "      <td>M</td>\n",
       "    </tr>\n",
       "    <tr>\n",
       "      <th>3230</th>\n",
       "      <td>Oh friends, it's finally here! I thought the m...</td>\n",
       "      <td>F</td>\n",
       "    </tr>\n",
       "  </tbody>\n",
       "</table>\n",
       "<p>3231 rows × 2 columns</p>\n",
       "</div>"
      ],
      "text/plain": [
       "                                                   Text class\n",
       "0      Guest Demo: Eric Iverson’s Itty Bitty Search\\...     M\n",
       "1     Who moved my Cheese???   The world has been de...     M\n",
       "2      Yesterday I attended a biweekly meeting of an...     M\n",
       "3      Liam is nothing like Natalie. Natalie never w...     F\n",
       "4     In the EU we have browser choice, but few know...     M\n",
       "...                                                 ...   ...\n",
       "3226  It was a scavenger style race with checkpoints...     M\n",
       "3227  Finally! I got a full day's work done. Almost ...     F\n",
       "3228  At the height of laughter, the universe is flu...     M\n",
       "3229  I like birds, especially woodpeckers and MOST ...     M\n",
       "3230  Oh friends, it's finally here! I thought the m...     F\n",
       "\n",
       "[3231 rows x 2 columns]"
      ]
     },
     "execution_count": 2,
     "metadata": {},
     "output_type": "execute_result"
    }
   ],
   "source": [
    "headers = [\"Text\", \"class\"]\n",
    "text_df = pd.read_csv('blog-gender-dataset/blog-gender-dataset.csv')\n",
    "#text_df = pd.read_csv('blog-gender-dataset/blog-gender-dataset1.csv')\n",
    "text_df = text_df.iloc[:, [0, 1]]\n",
    "text_df.columns = headers\n",
    "text_df"
   ]
  },
  {
   "cell_type": "code",
   "execution_count": 3,
   "metadata": {},
   "outputs": [
    {
     "data": {
      "text/plain": [
       "Text     7\n",
       "class    5\n",
       "dtype: int64"
      ]
     },
     "execution_count": 3,
     "metadata": {},
     "output_type": "execute_result"
    }
   ],
   "source": [
    "text_df.isnull().sum()"
   ]
  },
  {
   "cell_type": "code",
   "execution_count": 4,
   "metadata": {},
   "outputs": [
    {
     "data": {
      "text/plain": [
       "3231"
      ]
     },
     "execution_count": 4,
     "metadata": {},
     "output_type": "execute_result"
    }
   ],
   "source": [
    "len(text_df)"
   ]
  },
  {
   "cell_type": "code",
   "execution_count": 5,
   "metadata": {},
   "outputs": [],
   "source": [
    "text_df = text_df.dropna()"
   ]
  },
  {
   "cell_type": "code",
   "execution_count": 6,
   "metadata": {},
   "outputs": [
    {
     "name": "stderr",
     "output_type": "stream",
     "text": [
      "/Users/hoangvo/anaconda3/envs/Data-mining/lib/python3.7/site-packages/ipykernel_launcher.py:1: SettingWithCopyWarning: \n",
      "A value is trying to be set on a copy of a slice from a DataFrame.\n",
      "Try using .loc[row_indexer,col_indexer] = value instead\n",
      "\n",
      "See the caveats in the documentation: https://pandas.pydata.org/pandas-docs/stable/user_guide/indexing.html#returning-a-view-versus-a-copy\n",
      "  \"\"\"Entry point for launching an IPython kernel.\n",
      "/Users/hoangvo/anaconda3/envs/Data-mining/lib/python3.7/site-packages/ipykernel_launcher.py:2: SettingWithCopyWarning: \n",
      "A value is trying to be set on a copy of a slice from a DataFrame.\n",
      "Try using .loc[row_indexer,col_indexer] = value instead\n",
      "\n",
      "See the caveats in the documentation: https://pandas.pydata.org/pandas-docs/stable/user_guide/indexing.html#returning-a-view-versus-a-copy\n",
      "  \n",
      "/Users/hoangvo/anaconda3/envs/Data-mining/lib/python3.7/site-packages/ipykernel_launcher.py:3: SettingWithCopyWarning: \n",
      "A value is trying to be set on a copy of a slice from a DataFrame.\n",
      "Try using .loc[row_indexer,col_indexer] = value instead\n",
      "\n",
      "See the caveats in the documentation: https://pandas.pydata.org/pandas-docs/stable/user_guide/indexing.html#returning-a-view-versus-a-copy\n",
      "  This is separate from the ipykernel package so we can avoid doing imports until\n",
      "/Users/hoangvo/anaconda3/envs/Data-mining/lib/python3.7/site-packages/ipykernel_launcher.py:4: SettingWithCopyWarning: \n",
      "A value is trying to be set on a copy of a slice from a DataFrame.\n",
      "Try using .loc[row_indexer,col_indexer] = value instead\n",
      "\n",
      "See the caveats in the documentation: https://pandas.pydata.org/pandas-docs/stable/user_guide/indexing.html#returning-a-view-versus-a-copy\n",
      "  after removing the cwd from sys.path.\n",
      "/Users/hoangvo/anaconda3/envs/Data-mining/lib/python3.7/site-packages/ipykernel_launcher.py:5: SettingWithCopyWarning: \n",
      "A value is trying to be set on a copy of a slice from a DataFrame.\n",
      "Try using .loc[row_indexer,col_indexer] = value instead\n",
      "\n",
      "See the caveats in the documentation: https://pandas.pydata.org/pandas-docs/stable/user_guide/indexing.html#returning-a-view-versus-a-copy\n",
      "  \"\"\"\n",
      "/Users/hoangvo/anaconda3/envs/Data-mining/lib/python3.7/site-packages/ipykernel_launcher.py:6: SettingWithCopyWarning: \n",
      "A value is trying to be set on a copy of a slice from a DataFrame.\n",
      "Try using .loc[row_indexer,col_indexer] = value instead\n",
      "\n",
      "See the caveats in the documentation: https://pandas.pydata.org/pandas-docs/stable/user_guide/indexing.html#returning-a-view-versus-a-copy\n",
      "  \n"
     ]
    },
    {
     "data": {
      "text/plain": [
       "M    1677\n",
       "F    1547\n",
       "Name: class, dtype: int64"
      ]
     },
     "execution_count": 6,
     "metadata": {},
     "output_type": "execute_result"
    }
   ],
   "source": [
    "text_df[\"class\"] = text_df[\"class\"].replace(' F', 'F')\n",
    "text_df[\"class\"] = text_df[\"class\"].replace('f', 'F')\n",
    "text_df[\"class\"] = text_df[\"class\"].replace('F ', 'F')\n",
    "text_df[\"class\"] = text_df[\"class\"].replace(' M', 'M')\n",
    "text_df[\"class\"] = text_df[\"class\"].replace('m', 'M')\n",
    "text_df[\"class\"] = text_df[\"class\"].replace(' M ', 'M')\n",
    "text_df['class'].value_counts()"
   ]
  },
  {
   "cell_type": "code",
   "execution_count": 7,
   "metadata": {},
   "outputs": [
    {
     "data": {
      "text/plain": [
       "M    1677\n",
       "F    1547\n",
       "Name: class, dtype: int64"
      ]
     },
     "execution_count": 7,
     "metadata": {},
     "output_type": "execute_result"
    }
   ],
   "source": [
    "text_df['class'].value_counts()"
   ]
  },
  {
   "cell_type": "code",
   "execution_count": 8,
   "metadata": {},
   "outputs": [
    {
     "data": {
      "image/png": "[encoded data removed]",
      "text/plain": [
       "<Figure size 432x288 with 1 Axes>"
      ]
     },
     "metadata": {
      "needs_background": "light"
     },
     "output_type": "display_data"
    }
   ],
   "source": [
    "text_df.groupby('class')['Text'].nunique().plot(kind='bar')\n",
    "plt.show()"
   ]
  },
  {
   "cell_type": "code",
   "execution_count": null,
   "metadata": {},
   "outputs": [],
   "source": []
  },
  {
   "cell_type": "markdown",
   "metadata": {},
   "source": [
    "## Process text\n",
    "https://towardsdatascience.com/cnn-sentiment-analysis-1d16b7c5a0e7"
   ]
  },
  {
   "cell_type": "code",
   "execution_count": 9,
   "metadata": {},
   "outputs": [
    {
     "name": "stderr",
     "output_type": "stream",
     "text": [
      "/Users/hoangvo/anaconda3/envs/Data-mining/lib/python3.7/site-packages/ipykernel_launcher.py:1: SettingWithCopyWarning: \n",
      "A value is trying to be set on a copy of a slice from a DataFrame.\n",
      "Try using .loc[row_indexer,col_indexer] = value instead\n",
      "\n",
      "See the caveats in the documentation: https://pandas.pydata.org/pandas-docs/stable/user_guide/indexing.html#returning-a-view-versus-a-copy\n",
      "  \"\"\"Entry point for launching an IPython kernel.\n"
     ]
    }
   ],
   "source": [
    "text_df[\"Label\"]= text_df['class'].apply(lambda x: 1 if x=='F' else 0)"
   ]
  },
  {
   "cell_type": "code",
   "execution_count": 10,
   "metadata": {},
   "outputs": [],
   "source": [
    "data = text_df[[\"Text\",\"Label\"]].copy()"
   ]
  },
  {
   "cell_type": "code",
   "execution_count": 11,
   "metadata": {},
   "outputs": [
    {
     "data": {
      "text/plain": [
       "(3224, 2)"
      ]
     },
     "execution_count": 11,
     "metadata": {},
     "output_type": "execute_result"
    }
   ],
   "source": [
    "data.shape"
   ]
  },
  {
   "cell_type": "code",
   "execution_count": 12,
   "metadata": {},
   "outputs": [
    {
     "data": {
      "text/plain": [
       "0    1677\n",
       "1    1547\n",
       "Name: Label, dtype: int64"
      ]
     },
     "execution_count": 12,
     "metadata": {},
     "output_type": "execute_result"
    }
   ],
   "source": [
    "data.Label.value_counts()"
   ]
  },
  {
   "cell_type": "code",
   "execution_count": 13,
   "metadata": {},
   "outputs": [
    {
     "data": {
      "text/html": [
       "<div>\n",
       "<style scoped>\n",
       "    .dataframe tbody tr th:only-of-type {\n",
       "        vertical-align: middle;\n",
       "    }\n",
       "\n",
       "    .dataframe tbody tr th {\n",
       "        vertical-align: top;\n",
       "    }\n",
       "\n",
       "    .dataframe thead th {\n",
       "        text-align: right;\n",
       "    }\n",
       "</style>\n",
       "<table border=\"1\" class=\"dataframe\">\n",
       "  <thead>\n",
       "    <tr style=\"text-align: right;\">\n",
       "      <th></th>\n",
       "      <th>Text</th>\n",
       "      <th>Label</th>\n",
       "    </tr>\n",
       "  </thead>\n",
       "  <tbody>\n",
       "    <tr>\n",
       "      <th>0</th>\n",
       "      <td>Guest Demo: Eric Iverson’s Itty Bitty Search\\...</td>\n",
       "      <td>0</td>\n",
       "    </tr>\n",
       "    <tr>\n",
       "      <th>1</th>\n",
       "      <td>Who moved my Cheese???   The world has been de...</td>\n",
       "      <td>0</td>\n",
       "    </tr>\n",
       "    <tr>\n",
       "      <th>2</th>\n",
       "      <td>Yesterday I attended a biweekly meeting of an...</td>\n",
       "      <td>0</td>\n",
       "    </tr>\n",
       "    <tr>\n",
       "      <th>3</th>\n",
       "      <td>Liam is nothing like Natalie. Natalie never w...</td>\n",
       "      <td>1</td>\n",
       "    </tr>\n",
       "    <tr>\n",
       "      <th>4</th>\n",
       "      <td>In the EU we have browser choice, but few know...</td>\n",
       "      <td>0</td>\n",
       "    </tr>\n",
       "    <tr>\n",
       "      <th>5</th>\n",
       "      <td>Hmmm.. I really didn't wanna update my blog ti...</td>\n",
       "      <td>1</td>\n",
       "    </tr>\n",
       "    <tr>\n",
       "      <th>6</th>\n",
       "      <td>happy teachers day..!! who is celebrating..??\\...</td>\n",
       "      <td>0</td>\n",
       "    </tr>\n",
       "    <tr>\n",
       "      <th>7</th>\n",
       "      <td>We watch movies. And we see what the camera in...</td>\n",
       "      <td>1</td>\n",
       "    </tr>\n",
       "    <tr>\n",
       "      <th>8</th>\n",
       "      <td>Cooking!  May be the title of the blog is a gi...</td>\n",
       "      <td>1</td>\n",
       "    </tr>\n",
       "    <tr>\n",
       "      <th>9</th>\n",
       "      <td>The jhhhhaaakkkaaaasss DSN...Do It Now !!!  We...</td>\n",
       "      <td>1</td>\n",
       "    </tr>\n",
       "  </tbody>\n",
       "</table>\n",
       "</div>"
      ],
      "text/plain": [
       "                                                Text  Label\n",
       "0   Guest Demo: Eric Iverson’s Itty Bitty Search\\...      0\n",
       "1  Who moved my Cheese???   The world has been de...      0\n",
       "2   Yesterday I attended a biweekly meeting of an...      0\n",
       "3   Liam is nothing like Natalie. Natalie never w...      1\n",
       "4  In the EU we have browser choice, but few know...      0\n",
       "5  Hmmm.. I really didn't wanna update my blog ti...      1\n",
       "6  happy teachers day..!! who is celebrating..??\\...      0\n",
       "7  We watch movies. And we see what the camera in...      1\n",
       "8  Cooking!  May be the title of the blog is a gi...      1\n",
       "9  The jhhhhaaakkkaaaasss DSN...Do It Now !!!  We...      1"
      ]
     },
     "execution_count": 13,
     "metadata": {},
     "output_type": "execute_result"
    }
   ],
   "source": [
    "data.head(10)"
   ]
  },
  {
   "cell_type": "code",
   "execution_count": 14,
   "metadata": {},
   "outputs": [
    {
     "data": {
      "text/plain": [
       "0        guest demo eric iversons itty bitty searchfeb...\n",
       "1       who moved my cheese   the world has been devel...\n",
       "2        yesterday i attended a biweekly meeting of an...\n",
       "3        liam is nothing like natalie natalie never we...\n",
       "4       in the eu we have browser choice but few know ...\n",
       "                              ...                        \n",
       "3226    it was a scavenger style race with checkpoints...\n",
       "3227    finally i got a full days work done almost k a...\n",
       "3228    at the height of laughter the universe is flun...\n",
       "3229    i like birds especially woodpeckers and most e...\n",
       "3230    oh friends its finally here i thought the mont...\n",
       "Name: Text_Clean, Length: 3224, dtype: object"
      ]
     },
     "execution_count": 14,
     "metadata": {},
     "output_type": "execute_result"
    }
   ],
   "source": [
    "import re\n",
    "def remove_punct(text):\n",
    "    punctuations = '''!()-[]{};:'\"\\,<>./?@#$%^&*_~'''\n",
    "    no_punct = \"\".join([c for c in text if c not in punctuations])\n",
    "    return no_punct\n",
    "\n",
    "def  clean_text(df, text_field, new_text_field_name):\n",
    "    df[new_text_field_name] = df[text_field].str.lower()\n",
    "    df[new_text_field_name] = df[new_text_field_name].apply(lambda elem: re.sub(r\"(@[A-Za-z0-9]+)|([^0-9A-Za-z \\t])|(\\w+:\\/\\/\\S+)|^rt|http.+?\", \"\", elem))  \n",
    "    # remove numbers\n",
    "    df[new_text_field_name] = df[new_text_field_name].apply(lambda elem: re.sub(r\"\\d+\", \"\", elem))\n",
    "\n",
    "clean_text(data, 'Text', 'Text_Clean')\n",
    "#data['Text_Clean'] = data['Text'].apply(lambda x: remove_punct(x))\n",
    "data['Text_Clean']"
   ]
  },
  {
   "cell_type": "code",
   "execution_count": 15,
   "metadata": {},
   "outputs": [
    {
     "data": {
      "text/html": [
       "<div>\n",
       "<style scoped>\n",
       "    .dataframe tbody tr th:only-of-type {\n",
       "        vertical-align: middle;\n",
       "    }\n",
       "\n",
       "    .dataframe tbody tr th {\n",
       "        vertical-align: top;\n",
       "    }\n",
       "\n",
       "    .dataframe thead th {\n",
       "        text-align: right;\n",
       "    }\n",
       "</style>\n",
       "<table border=\"1\" class=\"dataframe\">\n",
       "  <thead>\n",
       "    <tr style=\"text-align: right;\">\n",
       "      <th></th>\n",
       "      <th>Text</th>\n",
       "      <th>Label</th>\n",
       "      <th>Text_Clean</th>\n",
       "    </tr>\n",
       "  </thead>\n",
       "  <tbody>\n",
       "    <tr>\n",
       "      <th>0</th>\n",
       "      <td>Guest Demo: Eric Iverson’s Itty Bitty Search\\...</td>\n",
       "      <td>0</td>\n",
       "      <td>guest demo eric iversons itty bitty searchfeb...</td>\n",
       "    </tr>\n",
       "    <tr>\n",
       "      <th>1</th>\n",
       "      <td>Who moved my Cheese???   The world has been de...</td>\n",
       "      <td>0</td>\n",
       "      <td>who moved my cheese   the world has been devel...</td>\n",
       "    </tr>\n",
       "    <tr>\n",
       "      <th>2</th>\n",
       "      <td>Yesterday I attended a biweekly meeting of an...</td>\n",
       "      <td>0</td>\n",
       "      <td>yesterday i attended a biweekly meeting of an...</td>\n",
       "    </tr>\n",
       "    <tr>\n",
       "      <th>3</th>\n",
       "      <td>Liam is nothing like Natalie. Natalie never w...</td>\n",
       "      <td>1</td>\n",
       "      <td>liam is nothing like natalie natalie never we...</td>\n",
       "    </tr>\n",
       "    <tr>\n",
       "      <th>4</th>\n",
       "      <td>In the EU we have browser choice, but few know...</td>\n",
       "      <td>0</td>\n",
       "      <td>in the eu we have browser choice but few know ...</td>\n",
       "    </tr>\n",
       "    <tr>\n",
       "      <th>5</th>\n",
       "      <td>Hmmm.. I really didn't wanna update my blog ti...</td>\n",
       "      <td>1</td>\n",
       "      <td>hmmm i really didnt wanna update my blog till ...</td>\n",
       "    </tr>\n",
       "    <tr>\n",
       "      <th>6</th>\n",
       "      <td>happy teachers day..!! who is celebrating..??\\...</td>\n",
       "      <td>0</td>\n",
       "      <td>happy teachers day who is celebratingi had alr...</td>\n",
       "    </tr>\n",
       "    <tr>\n",
       "      <th>7</th>\n",
       "      <td>We watch movies. And we see what the camera in...</td>\n",
       "      <td>1</td>\n",
       "      <td>we watch movies and we see what the camera int...</td>\n",
       "    </tr>\n",
       "    <tr>\n",
       "      <th>8</th>\n",
       "      <td>Cooking!  May be the title of the blog is a gi...</td>\n",
       "      <td>1</td>\n",
       "      <td>cooking  may be the title of the blog is a giv...</td>\n",
       "    </tr>\n",
       "    <tr>\n",
       "      <th>9</th>\n",
       "      <td>The jhhhhaaakkkaaaasss DSN...Do It Now !!!  We...</td>\n",
       "      <td>1</td>\n",
       "      <td>the jhhhhaaakkkaaaasss dsndo it now   we all h...</td>\n",
       "    </tr>\n",
       "  </tbody>\n",
       "</table>\n",
       "</div>"
      ],
      "text/plain": [
       "                                                Text  Label  \\\n",
       "0   Guest Demo: Eric Iverson’s Itty Bitty Search\\...      0   \n",
       "1  Who moved my Cheese???   The world has been de...      0   \n",
       "2   Yesterday I attended a biweekly meeting of an...      0   \n",
       "3   Liam is nothing like Natalie. Natalie never w...      1   \n",
       "4  In the EU we have browser choice, but few know...      0   \n",
       "5  Hmmm.. I really didn't wanna update my blog ti...      1   \n",
       "6  happy teachers day..!! who is celebrating..??\\...      0   \n",
       "7  We watch movies. And we see what the camera in...      1   \n",
       "8  Cooking!  May be the title of the blog is a gi...      1   \n",
       "9  The jhhhhaaakkkaaaasss DSN...Do It Now !!!  We...      1   \n",
       "\n",
       "                                          Text_Clean  \n",
       "0   guest demo eric iversons itty bitty searchfeb...  \n",
       "1  who moved my cheese   the world has been devel...  \n",
       "2   yesterday i attended a biweekly meeting of an...  \n",
       "3   liam is nothing like natalie natalie never we...  \n",
       "4  in the eu we have browser choice but few know ...  \n",
       "5  hmmm i really didnt wanna update my blog till ...  \n",
       "6  happy teachers day who is celebratingi had alr...  \n",
       "7  we watch movies and we see what the camera int...  \n",
       "8  cooking  may be the title of the blog is a giv...  \n",
       "9  the jhhhhaaakkkaaaasss dsndo it now   we all h...  "
      ]
     },
     "execution_count": 15,
     "metadata": {},
     "output_type": "execute_result"
    }
   ],
   "source": [
    "data.head(10)"
   ]
  },
  {
   "cell_type": "code",
   "execution_count": 16,
   "metadata": {},
   "outputs": [],
   "source": [
    "from nltk import word_tokenize\n",
    "tokens = [word_tokenize(sen) for sen in data.Text_Clean]"
   ]
  },
  {
   "cell_type": "code",
   "execution_count": 17,
   "metadata": {},
   "outputs": [],
   "source": [
    "def lower_token(tokens): \n",
    "    return [w.lower() for w in tokens]    \n",
    "    \n",
    "lower_tokens = [lower_token(token) for token in tokens]"
   ]
  },
  {
   "cell_type": "code",
   "execution_count": 18,
   "metadata": {},
   "outputs": [],
   "source": [
    "from nltk.corpus import stopwords\n",
    "stoplist = stopwords.words('english')\n",
    "def removeStopWords(tokens): \n",
    "    return [word for word in tokens if word not in stoplist]\n",
    "filtered_words = [removeStopWords(sen) for sen in lower_tokens]\n",
    "data['Text_Final'] = [' '.join(sen) for sen in filtered_words]\n",
    "data['tokens'] = filtered_words"
   ]
  },
  {
   "cell_type": "code",
   "execution_count": 19,
   "metadata": {},
   "outputs": [
    {
     "data": {
      "text/html": [
       "<div>\n",
       "<style scoped>\n",
       "    .dataframe tbody tr th:only-of-type {\n",
       "        vertical-align: middle;\n",
       "    }\n",
       "\n",
       "    .dataframe tbody tr th {\n",
       "        vertical-align: top;\n",
       "    }\n",
       "\n",
       "    .dataframe thead th {\n",
       "        text-align: right;\n",
       "    }\n",
       "</style>\n",
       "<table border=\"1\" class=\"dataframe\">\n",
       "  <thead>\n",
       "    <tr style=\"text-align: right;\">\n",
       "      <th></th>\n",
       "      <th>Text_Final</th>\n",
       "      <th>tokens</th>\n",
       "      <th>Label</th>\n",
       "      <th>F</th>\n",
       "      <th>M</th>\n",
       "    </tr>\n",
       "  </thead>\n",
       "  <tbody>\n",
       "    <tr>\n",
       "      <th>0</th>\n",
       "      <td>guest demo eric iversons itty bitty searchfebr...</td>\n",
       "      <td>[guest, demo, eric, iversons, itty, bitty, sea...</td>\n",
       "      <td>0</td>\n",
       "      <td>0</td>\n",
       "      <td>1</td>\n",
       "    </tr>\n",
       "    <tr>\n",
       "      <th>1</th>\n",
       "      <td>moved cheese world developing areas create dif...</td>\n",
       "      <td>[moved, cheese, world, developing, areas, crea...</td>\n",
       "      <td>0</td>\n",
       "      <td>0</td>\n",
       "      <td>1</td>\n",
       "    </tr>\n",
       "    <tr>\n",
       "      <th>2</th>\n",
       "      <td>yesterday attended biweekly meeting informal u...</td>\n",
       "      <td>[yesterday, attended, biweekly, meeting, infor...</td>\n",
       "      <td>0</td>\n",
       "      <td>0</td>\n",
       "      <td>1</td>\n",
       "    </tr>\n",
       "    <tr>\n",
       "      <th>3</th>\n",
       "      <td>liam nothing like natalie natalie never went d...</td>\n",
       "      <td>[liam, nothing, like, natalie, natalie, never,...</td>\n",
       "      <td>1</td>\n",
       "      <td>1</td>\n",
       "      <td>0</td>\n",
       "    </tr>\n",
       "    <tr>\n",
       "      <th>4</th>\n",
       "      <td>eu browser choice know eu tougher monopolies a...</td>\n",
       "      <td>[eu, browser, choice, know, eu, tougher, monop...</td>\n",
       "      <td>0</td>\n",
       "      <td>0</td>\n",
       "      <td>1</td>\n",
       "    </tr>\n",
       "  </tbody>\n",
       "</table>\n",
       "</div>"
      ],
      "text/plain": [
       "                                          Text_Final  \\\n",
       "0  guest demo eric iversons itty bitty searchfebr...   \n",
       "1  moved cheese world developing areas create dif...   \n",
       "2  yesterday attended biweekly meeting informal u...   \n",
       "3  liam nothing like natalie natalie never went d...   \n",
       "4  eu browser choice know eu tougher monopolies a...   \n",
       "\n",
       "                                              tokens  Label  F  M  \n",
       "0  [guest, demo, eric, iversons, itty, bitty, sea...      0  0  1  \n",
       "1  [moved, cheese, world, developing, areas, crea...      0  0  1  \n",
       "2  [yesterday, attended, biweekly, meeting, infor...      0  0  1  \n",
       "3  [liam, nothing, like, natalie, natalie, never,...      1  1  0  \n",
       "4  [eu, browser, choice, know, eu, tougher, monop...      0  0  1  "
      ]
     },
     "execution_count": 19,
     "metadata": {},
     "output_type": "execute_result"
    }
   ],
   "source": [
    "female = []\n",
    "male = []\n",
    "for l in data.Label:\n",
    "    if l == 0:\n",
    "        female.append(0)\n",
    "        male.append(1)\n",
    "    elif l == 1:\n",
    "        female.append(1)\n",
    "        male.append(0)\n",
    "data['F']= female\n",
    "data['M']= male\n",
    "\n",
    "data = data[['Text_Final', 'tokens', 'Label', 'F', 'M']]\n",
    "data.head()"
   ]
  },
  {
   "cell_type": "code",
   "execution_count": 20,
   "metadata": {},
   "outputs": [],
   "source": [
    "data_train, data_test = train_test_split(data, \n",
    "                                         test_size=0.15, \n",
    "                                         random_state=42)"
   ]
  },
  {
   "cell_type": "code",
   "execution_count": 21,
   "metadata": {},
   "outputs": [
    {
     "name": "stdout",
     "output_type": "stream",
     "text": [
      "585024 words total, with a vocabulary size of 59436\n",
      "Max sentence length is 3183\n",
      "Min sentence length is 2\n"
     ]
    }
   ],
   "source": [
    "all_training_words = [word for tokens in data_train[\"tokens\"] for word in tokens]\n",
    "training_sentence_lengths = [len(tokens) for tokens in data_train[\"tokens\"]]\n",
    "TRAINING_VOCAB = sorted(list(set(all_training_words)))\n",
    "print(\"%s words total, with a vocabulary size of %s\" % (len(all_training_words), len(TRAINING_VOCAB)))\n",
    "print(\"Max sentence length is %s\" % max(training_sentence_lengths))\n",
    "print(\"Min sentence length is %s\" % min(training_sentence_lengths))"
   ]
  },
  {
   "cell_type": "code",
   "execution_count": 22,
   "metadata": {},
   "outputs": [
    {
     "name": "stdout",
     "output_type": "stream",
     "text": [
      "113444 words total, with a vocabulary size of 21912\n",
      "Max sentence length is 3227\n",
      "Min sentence length is 14\n"
     ]
    }
   ],
   "source": [
    "all_test_words = [word for tokens in data_test[\"tokens\"] for word in tokens]\n",
    "test_sentence_lengths = [len(tokens) for tokens in data_test[\"tokens\"]]\n",
    "TEST_VOCAB = sorted(list(set(all_test_words)))\n",
    "print(\"%s words total, with a vocabulary size of %s\" % (len(all_test_words), len(TEST_VOCAB)))\n",
    "print(\"Max sentence length is %s\" % max(test_sentence_lengths))\n",
    "print(\"Min sentence length is %s\" % min(test_sentence_lengths))"
   ]
  },
  {
   "cell_type": "code",
   "execution_count": null,
   "metadata": {},
   "outputs": [],
   "source": []
  },
  {
   "cell_type": "code",
   "execution_count": 23,
   "metadata": {},
   "outputs": [],
   "source": [
    "#  !wget https://s3.amazonaws.com/dl4j-distribution/GoogleNews-vectors-negative300.bin.gz"
   ]
  },
  {
   "cell_type": "code",
   "execution_count": 24,
   "metadata": {},
   "outputs": [],
   "source": [
    "#can be replaced by spacy\n",
    "import spacy\n",
    "nlp = spacy.load('en_core_web_lg')\n",
    "#https://stackoverflow.com/questions/55383604/how-to-extract-word-embedding-vectors-from-a-trained-spacy-model\n",
    "#http://mlreference.com/word-vectors-spacy\n",
    "word_spacy_vectors = dict()\n",
    "for key, vector in nlp.vocab.vectors.items():\n",
    "    try:\n",
    "        word_string = nlp.vocab.strings[key]\n",
    "        word_spacy_vectors[word_string] = vector\n",
    "\n",
    "    except KeyError:\n",
    "        continue"
   ]
  },
  {
   "cell_type": "code",
   "execution_count": null,
   "metadata": {},
   "outputs": [],
   "source": []
  },
  {
   "cell_type": "code",
   "execution_count": 25,
   "metadata": {},
   "outputs": [],
   "source": [
    "def get_average_spacy(tokens_list, vector, generate_missing=False, k=300): #k=300\n",
    "    if len(tokens_list)<1:\n",
    "        return np.zeros(k)\n",
    "    if generate_missing:\n",
    "        vectorized = [vector[word] if word in vector else np.random.rand(k) for word in tokens_list]\n",
    "    else:\n",
    "        vectorized = [vector[word] if word in vector else np.zeros(k) for word in tokens_list]\n",
    "    length = len(vectorized)\n",
    "    summed = np.sum(vectorized, axis=0)\n",
    "    averaged = np.divide(summed, length)\n",
    "    return averaged\n",
    "def get_spacy_embeddings(vectors, clean_comments, generate_missing=False):\n",
    "    embeddings = clean_comments['tokens'].apply(lambda x: get_average_spacy(x, vectors, \n",
    "                                                                                generate_missing=generate_missing))\n",
    "    return list(embeddings)"
   ]
  },
  {
   "cell_type": "code",
   "execution_count": null,
   "metadata": {},
   "outputs": [],
   "source": []
  },
  {
   "cell_type": "markdown",
   "metadata": {},
   "source": [
    "## get embeddings"
   ]
  },
  {
   "cell_type": "code",
   "execution_count": null,
   "metadata": {},
   "outputs": [],
   "source": []
  },
  {
   "cell_type": "code",
   "execution_count": 26,
   "metadata": {},
   "outputs": [],
   "source": [
    "training_embeddings = get_spacy_embeddings(word_spacy_vectors, data_train, generate_missing=True)"
   ]
  },
  {
   "cell_type": "raw",
   "metadata": {},
   "source": [
    "training_embeddings"
   ]
  },
  {
   "cell_type": "code",
   "execution_count": 27,
   "metadata": {},
   "outputs": [],
   "source": [
    "MAX_SEQUENCE_LENGTH = 200# 100 #800# 200, 500, 1000\n",
    "EMBEDDING_DIM = 300 #300     #change k in get_average_word2vec as well"
   ]
  },
  {
   "cell_type": "code",
   "execution_count": null,
   "metadata": {},
   "outputs": [],
   "source": []
  },
  {
   "cell_type": "code",
   "execution_count": null,
   "metadata": {},
   "outputs": [],
   "source": []
  },
  {
   "cell_type": "code",
   "execution_count": null,
   "metadata": {},
   "outputs": [],
   "source": []
  },
  {
   "cell_type": "code",
   "execution_count": null,
   "metadata": {},
   "outputs": [],
   "source": []
  },
  {
   "cell_type": "code",
   "execution_count": null,
   "metadata": {},
   "outputs": [],
   "source": []
  },
  {
   "cell_type": "markdown",
   "metadata": {},
   "source": [
    "## Tokenize and Pad sequences"
   ]
  },
  {
   "cell_type": "code",
   "execution_count": null,
   "metadata": {},
   "outputs": [],
   "source": []
  },
  {
   "cell_type": "code",
   "execution_count": null,
   "metadata": {},
   "outputs": [],
   "source": []
  },
  {
   "cell_type": "code",
   "execution_count": 28,
   "metadata": {},
   "outputs": [
    {
     "name": "stdout",
     "output_type": "stream",
     "text": [
      "Found 59436 unique tokens.\n"
     ]
    }
   ],
   "source": [
    "tokenizer = Tokenizer(num_words=len(TRAINING_VOCAB), lower=True, char_level=False)\n",
    "tokenizer.fit_on_texts(data_train[\"Text_Final\"].tolist())\n",
    "training_sequences = tokenizer.texts_to_sequences(data_train[\"Text_Final\"].tolist())\n",
    "train_word_index = tokenizer.word_index\n",
    "print('Found %s unique tokens.' % len(train_word_index))\n",
    "train_cnn_data = pad_sequences(training_sequences, \n",
    "                               maxlen=MAX_SEQUENCE_LENGTH)"
   ]
  },
  {
   "cell_type": "code",
   "execution_count": 29,
   "metadata": {},
   "outputs": [
    {
     "name": "stdout",
     "output_type": "stream",
     "text": [
      "(59437, 300)\n"
     ]
    }
   ],
   "source": [
    "train_embedding_weights = np.zeros((len(train_word_index)+1, \n",
    " EMBEDDING_DIM))\n",
    "for word,index in train_word_index.items():\n",
    "    train_embedding_weights[index,:] = word_spacy_vectors[word] if word in word_spacy_vectors else np.random.rand(EMBEDDING_DIM)  #np.random.rand(EMBEDDING_DIM)\n",
    "print(train_embedding_weights.shape)"
   ]
  },
  {
   "cell_type": "code",
   "execution_count": 30,
   "metadata": {},
   "outputs": [
    {
     "data": {
      "text/plain": [
       "array([-2.68790007e-01,  1.74830005e-01, -3.56330007e-01,  3.18880007e-03,\n",
       "        1.53310001e-01, -3.21660005e-02, -1.97770000e-02, -4.06709984e-02,\n",
       "        7.87059963e-02,  2.44720006e+00, -2.79119998e-01, -1.23140002e-02,\n",
       "        6.34279987e-03, -5.67979999e-02, -3.11219990e-01, -9.92999971e-02,\n",
       "       -1.35440007e-01,  1.02639997e+00, -3.82730007e-01,  1.52979996e-02,\n",
       "        1.14830002e-01,  1.21259997e-02, -1.60980001e-02, -2.13740006e-01,\n",
       "       -4.50269997e-01, -2.46769994e-01,  2.12120004e-02, -3.78030002e-01,\n",
       "        4.89179999e-01, -3.05720001e-01, -7.95229971e-02,  1.13260001e-02,\n",
       "       -8.26570019e-02,  2.10659996e-01,  2.07489997e-01,  6.88550025e-02,\n",
       "        6.55779988e-02,  1.48460001e-01, -3.09059992e-02, -8.27689990e-02,\n",
       "       -7.50709996e-02, -5.80720007e-02,  1.23369999e-01, -1.98070005e-01,\n",
       "       -1.02480002e-01,  3.43540013e-01, -1.51519999e-01, -1.39050007e-01,\n",
       "       -2.63000011e-01,  1.47489995e-01, -2.10040003e-01,  1.32540002e-01,\n",
       "        3.11390013e-01,  4.14760001e-02,  2.53789991e-01,  7.84889981e-02,\n",
       "        2.97829993e-02, -7.30990013e-03, -1.30679995e-01, -1.36749998e-01,\n",
       "       -2.92010009e-01, -2.00560004e-01, -1.48839995e-01,  2.73750007e-01,\n",
       "        6.40670002e-01,  2.23849997e-01,  1.61909997e-01,  3.18650007e-01,\n",
       "        4.20060009e-01,  3.24770004e-01,  1.47870004e-01,  3.12379986e-01,\n",
       "        5.25279999e-01, -2.06790000e-01,  9.03140008e-02,  2.62430012e-01,\n",
       "        3.47240001e-01, -1.76670000e-01, -1.81339994e-01,  1.91479996e-01,\n",
       "        1.83919996e-01, -5.20129986e-02, -2.28230000e-01, -2.40890007e-03,\n",
       "       -1.49949998e-01, -1.05999999e-01,  3.17699999e-01, -2.57649988e-01,\n",
       "        8.19469988e-01,  1.82189997e-02,  1.27809998e-02,  1.61109999e-01,\n",
       "       -7.05140010e-02, -1.67129993e-01, -5.36129996e-02, -6.56569973e-02,\n",
       "       -7.95509964e-02, -1.32320002e-01, -4.89749983e-02,  3.01569998e-01,\n",
       "       -2.46759996e-01, -6.74929991e-02,  1.15829997e-01, -2.43489996e-01,\n",
       "        3.30980003e-01, -6.68030024e-01,  1.47420004e-01, -4.71430011e-02,\n",
       "        5.84819987e-02,  2.63099998e-01,  1.39280006e-01, -5.34449995e-01,\n",
       "        4.22980011e-01,  7.12649971e-02,  1.83909997e-01, -5.28439991e-02,\n",
       "        4.76559997e-02,  4.60320013e-03, -4.12829995e-01,  7.25430027e-02,\n",
       "        3.64569992e-01, -6.24499992e-02, -2.57190000e-02, -1.03119999e-01,\n",
       "        3.45050007e-01,  2.22259998e-01, -8.70989985e-04,  1.07220002e-01,\n",
       "       -2.30949998e-01, -1.88409999e-01,  3.50000001e-02,  2.80629992e-01,\n",
       "       -2.63139993e-01,  2.75319993e-01,  2.34150007e-01,  1.50069997e-01,\n",
       "       -2.65679993e-02,  1.53349996e-01, -3.39700013e-01, -2.81430006e-01,\n",
       "       -2.09949994e+00,  1.24229997e-01,  3.68000008e-02, -1.17849998e-01,\n",
       "        2.05589995e-01, -4.09969985e-01,  1.78219993e-02,  2.82409996e-01,\n",
       "        8.86199996e-02, -3.29700001e-02,  1.88250005e-01,  1.22809999e-01,\n",
       "        1.30889997e-01, -5.39080016e-02, -2.59840012e-01, -1.03680000e-01,\n",
       "        9.38149989e-02,  1.08110003e-01,  1.48870004e-02,  2.06680000e-02,\n",
       "        9.29199997e-03, -6.70310035e-02, -2.76510008e-02,  6.15790002e-02,\n",
       "        2.31969997e-01, -2.75689989e-01,  2.34510005e-01, -1.06890000e-01,\n",
       "        1.57480001e-01, -2.27509998e-02, -6.45570010e-02, -1.24920003e-01,\n",
       "        1.45919994e-01, -1.04319997e-01,  5.65549992e-02,  8.54580030e-02,\n",
       "       -1.17190003e-01,  1.35409996e-01,  5.32729998e-02,  4.29200009e-02,\n",
       "        2.79949993e-01,  5.33830002e-02, -5.00819981e-01,  2.50690002e-02,\n",
       "        1.88789994e-01,  2.54079998e-02, -1.61909997e-01,  8.95769987e-03,\n",
       "       -2.12849993e-02,  4.55390006e-01,  9.32089984e-02,  3.19980010e-02,\n",
       "       -1.24760002e-01,  1.04470000e-01,  2.09529996e-01,  1.98660001e-01,\n",
       "       -2.68649995e-01,  1.49130002e-01,  2.66539991e-01,  5.90340011e-02,\n",
       "        1.01889998e-01, -6.31330013e-01, -1.60699993e-01, -7.46480003e-02,\n",
       "       -2.64979992e-02,  1.20219998e-01,  5.24460003e-02, -3.08740009e-02,\n",
       "        2.52739996e-01,  2.19180003e-01, -1.35399997e-01, -1.97960004e-01,\n",
       "       -4.21090007e-01, -2.63399988e-01, -1.27800003e-01,  1.15180001e-01,\n",
       "       -9.54530016e-02, -1.85790002e-01, -4.39040005e-01,  1.25650004e-01,\n",
       "       -1.56079993e-01, -3.02320004e-01, -6.97249994e-02, -3.27840000e-01,\n",
       "        9.68950018e-02, -7.01280013e-02, -2.81460006e-02,  2.38399997e-01,\n",
       "        2.38879994e-02, -2.42799997e-01, -6.43059984e-02, -1.85900003e-01,\n",
       "        5.21440029e-01,  9.44610015e-02,  2.98460007e-01,  1.56870000e-02,\n",
       "        3.72649990e-02, -1.82889998e-01,  7.16869980e-02,  4.21119988e-01,\n",
       "        3.58720005e-01, -2.63220012e-01,  5.66949993e-02,  1.29060000e-01,\n",
       "        1.45919994e-01, -2.72520006e-01, -3.92619997e-01,  6.11030012e-02,\n",
       "       -3.26189995e-01,  4.24360007e-01, -1.86450005e-01, -4.18830007e-01,\n",
       "       -9.06390026e-02, -6.77819997e-02,  3.08789998e-01,  4.55170006e-01,\n",
       "       -4.00980003e-03, -2.27060005e-01, -2.33620003e-01, -1.41849995e-01,\n",
       "       -8.24719965e-02,  2.39810005e-01,  3.90460014e-01,  1.74840003e-01,\n",
       "        6.33610010e-01,  5.84109984e-02, -1.07409999e-01,  1.58800006e-01,\n",
       "        5.02799988e-01,  1.80490002e-01,  1.99000001e-01,  2.33200006e-02,\n",
       "       -1.44720003e-01, -2.69089997e-01, -6.38220012e-02,  5.94439991e-02,\n",
       "       -9.04890001e-02,  2.78589994e-01,  8.72130021e-02,  2.91729987e-01,\n",
       "       -1.75190002e-01,  5.05050011e-02, -5.08520007e-02,  7.10880011e-02,\n",
       "        9.33040008e-02,  6.28620014e-02,  3.05049986e-01, -2.55490005e-01,\n",
       "       -1.52309999e-01,  1.08709998e-01, -9.46979970e-02, -1.34699997e-02,\n",
       "        6.18980005e-02, -1.25740007e-01,  1.48489997e-01, -2.02299997e-01,\n",
       "       -1.74510002e-01, -1.71379998e-01,  2.68460006e-01,  1.98660001e-01])"
      ]
     },
     "execution_count": 30,
     "metadata": {},
     "output_type": "execute_result"
    }
   ],
   "source": [
    "train_embedding_weights[6]"
   ]
  },
  {
   "cell_type": "code",
   "execution_count": 31,
   "metadata": {},
   "outputs": [],
   "source": [
    "test_sequences = tokenizer.texts_to_sequences(data_test[\"Text_Final\"].tolist())\n",
    "test_cnn_data = pad_sequences(test_sequences, maxlen=MAX_SEQUENCE_LENGTH)"
   ]
  },
  {
   "cell_type": "code",
   "execution_count": 32,
   "metadata": {},
   "outputs": [],
   "source": [
    "import keras"
   ]
  },
  {
   "cell_type": "markdown",
   "metadata": {},
   "source": [
    "## CNN model"
   ]
  },
  {
   "cell_type": "code",
   "execution_count": 33,
   "metadata": {},
   "outputs": [],
   "source": [
    "def ConvNet(embeddings, max_sequence_length, num_words, embedding_dim, labels_index):\n",
    "    conv_layers = [[256, 2, 3],[256, 3, 3], [256, 4, 3],[256, 5, 3], \n",
    "                   [256, 6, 3],[256,7, 3]]\n",
    "    fully_connected_layers = [128, 128]#[ 256, 256, 256] #1024, 512,128, 256\n",
    "    embedding_layer = Embedding(num_words,\n",
    "                            embedding_dim,\n",
    "                            weights=[embeddings],\n",
    "                            input_length=max_sequence_length,\n",
    "                            trainable=False)\n",
    "    \n",
    "    sequence_input = Input(shape=(max_sequence_length,), dtype='int64') #int32\n",
    "    embedded_sequences = embedding_layer(sequence_input)\n",
    "    convs = []\n",
    "    #filter_sizes = [2,2,3,3,4]\n",
    "    for filter_num, filter_size, pooling_size in conv_layers:   #filter_sizes:\n",
    "        l_conv = Conv1D(filters= filter_num,   #200 \n",
    "                        kernel_size=filter_size, \n",
    "                        activation='relu')(embedded_sequences)\n",
    "        if pooling_size != -1:\n",
    "            l_pool = MaxPooling1D(pool_size = pooling_size)(l_conv)#\n",
    "            l_pool = Dropout(0.2)(l_pool)\n",
    "            convs.append(l_pool)#\n",
    "        #l_pool = GlobalMaxPooling1D()(l_conv)\n",
    "        #convs.append(l_pool)\n",
    "    l_merge = concatenate(convs, axis=1)\n",
    "   # x = Dropout(0.5)(l_merge) #0.2 \n",
    "   # x = Flatten()(x)\n",
    "   # x = Dropout(0.5)(l_merge)\n",
    "    x = Flatten()(l_merge)\n",
    "    for dense_size in fully_connected_layers:\n",
    "        x = Dense(dense_size, activation='relu')(x) #dense_size =1024\n",
    "        x = Dropout(0.2)(x)\n",
    "   # x = Dense(128, activation='relu')(x)#128\n",
    "   # x = Dropout(0.5)(x) #0.2\n",
    "    preds = Dense(labels_index, activation='sigmoid')(x)\n",
    "    model = Model(sequence_input, preds)\n",
    "    #opt = Adam(learning_rate=0.0005) #0.0001\n",
    "    opt = keras.optimizers.Adam(learning_rate=0.0001)#0.0001\n",
    "    model.compile(loss='binary_crossentropy',\n",
    "                  optimizer=opt,\n",
    "                  metrics=['acc'])\n",
    "    model.summary()\n",
    "    return model"
   ]
  },
  {
   "cell_type": "code",
   "execution_count": 34,
   "metadata": {},
   "outputs": [],
   "source": [
    "def ConvNet(embeddings, max_sequence_length, num_words, embedding_dim, labels_index):\n",
    "    conv_layers = [[32, 3, 2]]#,[256,7, 3]]\n",
    "    fully_connected_layers = [256, 256]#[ 256, 256, 256] #1024, 512,128, 256\n",
    "    embedding_layer = Embedding(num_words,\n",
    "                            embedding_dim,\n",
    "                            weights=[embeddings],\n",
    "                            input_length=max_sequence_length,\n",
    "                            trainable=False)\n",
    "    \n",
    "    sequence_input = Input(shape=(max_sequence_length,), dtype='int64') #int32\n",
    "    embedded_sequences = embedding_layer(sequence_input)\n",
    "\n",
    "   \n",
    "    l_conv = Conv1D(filters= 32,   #200 \n",
    "                        kernel_size=3,\n",
    "                        padding = 'same',\n",
    "                        activation='relu')(embedded_sequences)\n",
    "        \n",
    "    l_pool = MaxPooling1D(pool_size = 2)(l_conv)#\n",
    "    l_pool = Dropout(0.2)(l_pool)\n",
    "         \n",
    "    \n",
    "   \n",
    "    x = LSTM(150, dropout=0.2, recurrent_dropout=0.2) (l_pool)\n",
    "        \n",
    "   # for dense_size in fully_connected_layers:\n",
    "     #   x = Dense(dense_size, activation='relu')(x) #dense_size =1024\n",
    "     #   x = Dropout(0.2)(x)\n",
    "   # x = Dense(32, activation='relu')(x)#128\n",
    "   # x = Dropout(0.2)(x) #0.2\n",
    "    preds = Dense(labels_index, activation='sigmoid')(x)\n",
    "    model = Model(sequence_input, preds)\n",
    "    #opt = Adam(learning_rate=0.0005) #0.0001\n",
    "    opt = keras.optimizers.Adam(learning_rate=0.0001)#0.0001\n",
    "    model.compile(loss='binary_crossentropy',\n",
    "                  optimizer=opt,\n",
    "                  metrics=['acc'])\n",
    "    model.summary()\n",
    "    return model"
   ]
  },
  {
   "cell_type": "code",
   "execution_count": null,
   "metadata": {},
   "outputs": [],
   "source": []
  },
  {
   "cell_type": "code",
   "execution_count": 35,
   "metadata": {},
   "outputs": [],
   "source": [
    "label_names = ['F', 'M']\n",
    "y_train = data_train[label_names].values"
   ]
  },
  {
   "cell_type": "code",
   "execution_count": 36,
   "metadata": {},
   "outputs": [],
   "source": [
    "\n",
    "x_train = train_cnn_data\n",
    "y_tr = y_train"
   ]
  },
  {
   "cell_type": "code",
   "execution_count": 37,
   "metadata": {},
   "outputs": [
    {
     "name": "stdout",
     "output_type": "stream",
     "text": [
      "Model: \"model_1\"\n",
      "_________________________________________________________________\n",
      "Layer (type)                 Output Shape              Param #   \n",
      "=================================================================\n",
      "input_1 (InputLayer)         (None, 200)               0         \n",
      "_________________________________________________________________\n",
      "embedding_1 (Embedding)      (None, 200, 300)          17831100  \n",
      "_________________________________________________________________\n",
      "conv1d_1 (Conv1D)            (None, 200, 32)           28832     \n",
      "_________________________________________________________________\n",
      "max_pooling1d_1 (MaxPooling1 (None, 100, 32)           0         \n",
      "_________________________________________________________________\n",
      "dropout_1 (Dropout)          (None, 100, 32)           0         \n",
      "_________________________________________________________________\n",
      "lstm_1 (LSTM)                (None, 150)               109800    \n",
      "_________________________________________________________________\n",
      "dense_1 (Dense)              (None, 2)                 302       \n",
      "=================================================================\n",
      "Total params: 17,970,034\n",
      "Trainable params: 138,934\n",
      "Non-trainable params: 17,831,100\n",
      "_________________________________________________________________\n"
     ]
    }
   ],
   "source": [
    "model = ConvNet(train_embedding_weights, \n",
    "                MAX_SEQUENCE_LENGTH, \n",
    "                len(train_word_index)+1, \n",
    "                EMBEDDING_DIM, \n",
    "                len(list(label_names)))"
   ]
  },
  {
   "cell_type": "code",
   "execution_count": 38,
   "metadata": {},
   "outputs": [
    {
     "data": {
      "text/plain": [
       "<keras.engine.training.Model at 0x7ffda3b58290>"
      ]
     },
     "execution_count": 38,
     "metadata": {},
     "output_type": "execute_result"
    }
   ],
   "source": [
    "model"
   ]
  },
  {
   "cell_type": "markdown",
   "metadata": {},
   "source": [
    "## training model"
   ]
  },
  {
   "cell_type": "code",
   "execution_count": 39,
   "metadata": {},
   "outputs": [
    {
     "name": "stdout",
     "output_type": "stream",
     "text": [
      "Train on 2466 samples, validate on 274 samples\n",
      "Epoch 1/100\n",
      "2466/2466 [==============================] - 6s 2ms/step - loss: 0.6924 - acc: 0.5189 - val_loss: 0.6921 - val_acc: 0.5000\n",
      "Epoch 2/100\n",
      "2466/2466 [==============================] - 5s 2ms/step - loss: 0.6917 - acc: 0.5105 - val_loss: 0.6918 - val_acc: 0.5146\n",
      "Epoch 3/100\n",
      "2466/2466 [==============================] - 5s 2ms/step - loss: 0.6891 - acc: 0.5363 - val_loss: 0.6909 - val_acc: 0.5091\n",
      "Epoch 4/100\n",
      "2466/2466 [==============================] - 5s 2ms/step - loss: 0.6884 - acc: 0.5416 - val_loss: 0.6892 - val_acc: 0.5109\n",
      "Epoch 5/100\n",
      "2466/2466 [==============================] - 5s 2ms/step - loss: 0.6864 - acc: 0.5430 - val_loss: 0.6872 - val_acc: 0.5146\n",
      "Epoch 6/100\n",
      "2466/2466 [==============================] - 5s 2ms/step - loss: 0.6854 - acc: 0.5549 - val_loss: 0.6844 - val_acc: 0.5365\n",
      "Epoch 7/100\n",
      "2466/2466 [==============================] - 5s 2ms/step - loss: 0.6831 - acc: 0.5793 - val_loss: 0.6818 - val_acc: 0.5620\n",
      "Epoch 8/100\n",
      "2466/2466 [==============================] - 5s 2ms/step - loss: 0.6805 - acc: 0.5795 - val_loss: 0.6788 - val_acc: 0.5712\n",
      "Epoch 9/100\n",
      "2466/2466 [==============================] - 5s 2ms/step - loss: 0.6770 - acc: 0.5914 - val_loss: 0.6749 - val_acc: 0.5967\n",
      "Epoch 10/100\n",
      "2466/2466 [==============================] - 5s 2ms/step - loss: 0.6727 - acc: 0.6026 - val_loss: 0.6700 - val_acc: 0.6131\n",
      "Epoch 11/100\n",
      "2466/2466 [==============================] - 5s 2ms/step - loss: 0.6716 - acc: 0.6095 - val_loss: 0.6633 - val_acc: 0.6350\n",
      "Epoch 12/100\n",
      "2466/2466 [==============================] - 5s 2ms/step - loss: 0.6663 - acc: 0.6036 - val_loss: 0.6561 - val_acc: 0.6442\n",
      "Epoch 13/100\n",
      "2466/2466 [==============================] - 5s 2ms/step - loss: 0.6565 - acc: 0.6166 - val_loss: 0.6478 - val_acc: 0.6551\n",
      "Epoch 14/100\n",
      "2466/2466 [==============================] - 5s 2ms/step - loss: 0.6480 - acc: 0.6354 - val_loss: 0.6371 - val_acc: 0.6624\n",
      "Epoch 15/100\n",
      "2466/2466 [==============================] - 5s 2ms/step - loss: 0.6441 - acc: 0.6399 - val_loss: 0.6220 - val_acc: 0.6752\n",
      "Epoch 16/100\n",
      "2466/2466 [==============================] - 5s 2ms/step - loss: 0.6332 - acc: 0.6551 - val_loss: 0.6134 - val_acc: 0.6807\n",
      "Epoch 17/100\n",
      "2466/2466 [==============================] - 5s 2ms/step - loss: 0.6363 - acc: 0.6452 - val_loss: 0.6080 - val_acc: 0.6843\n",
      "Epoch 18/100\n",
      "2466/2466 [==============================] - 5s 2ms/step - loss: 0.6297 - acc: 0.6535 - val_loss: 0.6040 - val_acc: 0.6971\n",
      "Epoch 19/100\n",
      "2466/2466 [==============================] - 5s 2ms/step - loss: 0.6262 - acc: 0.6592 - val_loss: 0.6041 - val_acc: 0.6934\n",
      "Epoch 20/100\n",
      "2466/2466 [==============================] - 5s 2ms/step - loss: 0.6234 - acc: 0.6586 - val_loss: 0.6012 - val_acc: 0.7080\n",
      "Epoch 21/100\n",
      "2466/2466 [==============================] - 5s 2ms/step - loss: 0.6134 - acc: 0.6752 - val_loss: 0.5999 - val_acc: 0.7026\n",
      "Epoch 22/100\n",
      "2466/2466 [==============================] - 5s 2ms/step - loss: 0.6190 - acc: 0.6632 - val_loss: 0.5986 - val_acc: 0.7026\n",
      "Epoch 23/100\n",
      "2466/2466 [==============================] - 6s 2ms/step - loss: 0.6043 - acc: 0.6782 - val_loss: 0.5950 - val_acc: 0.7135\n",
      "Epoch 24/100\n",
      "2466/2466 [==============================] - 6s 2ms/step - loss: 0.6117 - acc: 0.6634 - val_loss: 0.5942 - val_acc: 0.7026\n",
      "Epoch 25/100\n",
      "2466/2466 [==============================] - 5s 2ms/step - loss: 0.6127 - acc: 0.6665 - val_loss: 0.5952 - val_acc: 0.7062\n",
      "Epoch 26/100\n",
      "2466/2466 [==============================] - 5s 2ms/step - loss: 0.6027 - acc: 0.6813 - val_loss: 0.5931 - val_acc: 0.7062\n",
      "Epoch 27/100\n",
      "2466/2466 [==============================] - 5s 2ms/step - loss: 0.6046 - acc: 0.6803 - val_loss: 0.5930 - val_acc: 0.7117\n",
      "Epoch 28/100\n",
      "2466/2466 [==============================] - 5s 2ms/step - loss: 0.6030 - acc: 0.6821 - val_loss: 0.5943 - val_acc: 0.6953\n",
      "Epoch 29/100\n",
      "2466/2466 [==============================] - 5s 2ms/step - loss: 0.6093 - acc: 0.6705 - val_loss: 0.5947 - val_acc: 0.6971\n",
      "Epoch 30/100\n",
      "2466/2466 [==============================] - 5s 2ms/step - loss: 0.6002 - acc: 0.6855 - val_loss: 0.5913 - val_acc: 0.7117\n",
      "Epoch 31/100\n",
      "2466/2466 [==============================] - 5s 2ms/step - loss: 0.6022 - acc: 0.6770 - val_loss: 0.5911 - val_acc: 0.7099\n",
      "Epoch 32/100\n",
      "2466/2466 [==============================] - 5s 2ms/step - loss: 0.5939 - acc: 0.6898 - val_loss: 0.5919 - val_acc: 0.7007\n",
      "Epoch 33/100\n",
      "2466/2466 [==============================] - 5s 2ms/step - loss: 0.5903 - acc: 0.6938 - val_loss: 0.5890 - val_acc: 0.7062\n",
      "Epoch 34/100\n",
      "2466/2466 [==============================] - 5s 2ms/step - loss: 0.5934 - acc: 0.6841 - val_loss: 0.5872 - val_acc: 0.7208\n",
      "Epoch 35/100\n",
      "2466/2466 [==============================] - 5s 2ms/step - loss: 0.5871 - acc: 0.6942 - val_loss: 0.5890 - val_acc: 0.7007\n",
      "Epoch 36/100\n",
      "2466/2466 [==============================] - 5s 2ms/step - loss: 0.5944 - acc: 0.6898 - val_loss: 0.5887 - val_acc: 0.7080\n",
      "Epoch 37/100\n",
      "2466/2466 [==============================] - 5s 2ms/step - loss: 0.5915 - acc: 0.6861 - val_loss: 0.5874 - val_acc: 0.7135\n",
      "Epoch 38/100\n",
      "2466/2466 [==============================] - 6s 2ms/step - loss: 0.5886 - acc: 0.6918 - val_loss: 0.5880 - val_acc: 0.7117\n",
      "Epoch 39/100\n",
      "2466/2466 [==============================] - 7s 3ms/step - loss: 0.5893 - acc: 0.6942 - val_loss: 0.5880 - val_acc: 0.7117\n",
      "Epoch 40/100\n",
      "2466/2466 [==============================] - 6s 2ms/step - loss: 0.5826 - acc: 0.6981 - val_loss: 0.5867 - val_acc: 0.7135\n",
      "Epoch 41/100\n",
      "2466/2466 [==============================] - 6s 2ms/step - loss: 0.5850 - acc: 0.7034 - val_loss: 0.5854 - val_acc: 0.7190\n",
      "Epoch 42/100\n",
      "2466/2466 [==============================] - 5s 2ms/step - loss: 0.5788 - acc: 0.7054 - val_loss: 0.5853 - val_acc: 0.7208\n",
      "Epoch 43/100\n",
      "2466/2466 [==============================] - 9s 4ms/step - loss: 0.5853 - acc: 0.6904 - val_loss: 0.5885 - val_acc: 0.7135\n",
      "Epoch 44/100\n",
      "2466/2466 [==============================] - 10s 4ms/step - loss: 0.5830 - acc: 0.6979 - val_loss: 0.5862 - val_acc: 0.7153\n",
      "Epoch 45/100\n",
      "2466/2466 [==============================] - 7s 3ms/step - loss: 0.5772 - acc: 0.7107 - val_loss: 0.5852 - val_acc: 0.7099\n",
      "Epoch 46/100\n",
      "2466/2466 [==============================] - 7s 3ms/step - loss: 0.5757 - acc: 0.6989 - val_loss: 0.5848 - val_acc: 0.7153\n",
      "Epoch 47/100\n",
      "2466/2466 [==============================] - 7s 3ms/step - loss: 0.5770 - acc: 0.7024 - val_loss: 0.5870 - val_acc: 0.7172\n",
      "Epoch 48/100\n",
      "2466/2466 [==============================] - 7s 3ms/step - loss: 0.5725 - acc: 0.7060 - val_loss: 0.5855 - val_acc: 0.7208\n",
      "Epoch 49/100\n",
      "2466/2466 [==============================] - 7s 3ms/step - loss: 0.5771 - acc: 0.7011 - val_loss: 0.5851 - val_acc: 0.7190\n",
      "Epoch 50/100\n",
      "2466/2466 [==============================] - 8s 3ms/step - loss: 0.5662 - acc: 0.7170 - val_loss: 0.5847 - val_acc: 0.7208\n",
      "Epoch 51/100\n",
      "2466/2466 [==============================] - 7s 3ms/step - loss: 0.5724 - acc: 0.7080 - val_loss: 0.5831 - val_acc: 0.7208\n",
      "Epoch 52/100\n",
      "2466/2466 [==============================] - 7s 3ms/step - loss: 0.5684 - acc: 0.7099 - val_loss: 0.5828 - val_acc: 0.7190\n",
      "Epoch 53/100\n",
      "2466/2466 [==============================] - 8s 3ms/step - loss: 0.5685 - acc: 0.7117 - val_loss: 0.5844 - val_acc: 0.7226\n",
      "Epoch 54/100\n",
      "2466/2466 [==============================] - 8s 3ms/step - loss: 0.5591 - acc: 0.7247 - val_loss: 0.5834 - val_acc: 0.7208\n",
      "Epoch 55/100\n",
      "2466/2466 [==============================] - 8s 3ms/step - loss: 0.5739 - acc: 0.7042 - val_loss: 0.5816 - val_acc: 0.7172\n",
      "Epoch 56/100\n",
      "2466/2466 [==============================] - 8s 3ms/step - loss: 0.5617 - acc: 0.7287 - val_loss: 0.5829 - val_acc: 0.7226\n",
      "Epoch 57/100\n",
      "2466/2466 [==============================] - 8s 3ms/step - loss: 0.5671 - acc: 0.7066 - val_loss: 0.5849 - val_acc: 0.7281\n",
      "Epoch 58/100\n",
      "2466/2466 [==============================] - 8s 3ms/step - loss: 0.5549 - acc: 0.7277 - val_loss: 0.5808 - val_acc: 0.7153\n",
      "Epoch 59/100\n",
      "2466/2466 [==============================] - 8s 3ms/step - loss: 0.5521 - acc: 0.7214 - val_loss: 0.5798 - val_acc: 0.7172\n",
      "Epoch 60/100\n",
      "2466/2466 [==============================] - 8s 3ms/step - loss: 0.5644 - acc: 0.7107 - val_loss: 0.5827 - val_acc: 0.7208\n",
      "Epoch 61/100\n",
      "2466/2466 [==============================] - 8s 3ms/step - loss: 0.5517 - acc: 0.7194 - val_loss: 0.5831 - val_acc: 0.7245\n",
      "Epoch 62/100\n",
      "2466/2466 [==============================] - 9s 4ms/step - loss: 0.5593 - acc: 0.7155 - val_loss: 0.5799 - val_acc: 0.7190\n",
      "Epoch 63/100\n",
      "2466/2466 [==============================] - 10s 4ms/step - loss: 0.5507 - acc: 0.7299 - val_loss: 0.5800 - val_acc: 0.7172\n",
      "Epoch 64/100\n",
      "2466/2466 [==============================] - 7s 3ms/step - loss: 0.5533 - acc: 0.7259 - val_loss: 0.5805 - val_acc: 0.7281\n",
      "Epoch 65/100\n",
      "2466/2466 [==============================] - 8s 3ms/step - loss: 0.5529 - acc: 0.7188 - val_loss: 0.5797 - val_acc: 0.7263\n",
      "Epoch 66/100\n",
      "2466/2466 [==============================] - 9s 4ms/step - loss: 0.5429 - acc: 0.7419 - val_loss: 0.5787 - val_acc: 0.7153\n",
      "Epoch 67/100\n",
      "2466/2466 [==============================] - 8s 3ms/step - loss: 0.5580 - acc: 0.7147 - val_loss: 0.5795 - val_acc: 0.7245\n",
      "Epoch 68/100\n",
      "2466/2466 [==============================] - 9s 4ms/step - loss: 0.5560 - acc: 0.7224 - val_loss: 0.5812 - val_acc: 0.7190\n",
      "Epoch 69/100\n",
      "2466/2466 [==============================] - 8s 3ms/step - loss: 0.5513 - acc: 0.7249 - val_loss: 0.5813 - val_acc: 0.7080\n",
      "Epoch 70/100\n",
      "2466/2466 [==============================] - 7s 3ms/step - loss: 0.5475 - acc: 0.7311 - val_loss: 0.5813 - val_acc: 0.7135\n",
      "Epoch 71/100\n",
      "2466/2466 [==============================] - 8s 3ms/step - loss: 0.5511 - acc: 0.7267 - val_loss: 0.5825 - val_acc: 0.7226\n",
      "Epoch 72/100\n",
      "2466/2466 [==============================] - 9s 3ms/step - loss: 0.5419 - acc: 0.7413 - val_loss: 0.5806 - val_acc: 0.7080\n",
      "Epoch 73/100\n",
      "2466/2466 [==============================] - 8s 3ms/step - loss: 0.5416 - acc: 0.7326 - val_loss: 0.5804 - val_acc: 0.7099\n",
      "Epoch 74/100\n",
      "2466/2466 [==============================] - 7s 3ms/step - loss: 0.5348 - acc: 0.7372 - val_loss: 0.5825 - val_acc: 0.7226\n",
      "Epoch 75/100\n",
      "2466/2466 [==============================] - 8s 3ms/step - loss: 0.5421 - acc: 0.7330 - val_loss: 0.5825 - val_acc: 0.7208\n",
      "Epoch 76/100\n",
      "2466/2466 [==============================] - 8s 3ms/step - loss: 0.5386 - acc: 0.7407 - val_loss: 0.5812 - val_acc: 0.7172\n",
      "Epoch 77/100\n",
      "2466/2466 [==============================] - 8s 3ms/step - loss: 0.5240 - acc: 0.7490 - val_loss: 0.5819 - val_acc: 0.7208\n",
      "Epoch 78/100\n",
      "2466/2466 [==============================] - 8s 3ms/step - loss: 0.5225 - acc: 0.7488 - val_loss: 0.5841 - val_acc: 0.7190\n",
      "Epoch 79/100\n",
      "2466/2466 [==============================] - 8s 3ms/step - loss: 0.5269 - acc: 0.7403 - val_loss: 0.5815 - val_acc: 0.7190\n",
      "Epoch 80/100\n",
      "2466/2466 [==============================] - 8s 3ms/step - loss: 0.5341 - acc: 0.7427 - val_loss: 0.5831 - val_acc: 0.7153\n",
      "Epoch 81/100\n",
      "2466/2466 [==============================] - 8s 3ms/step - loss: 0.5336 - acc: 0.7334 - val_loss: 0.5820 - val_acc: 0.7208\n",
      "Epoch 82/100\n",
      "2466/2466 [==============================] - 8s 3ms/step - loss: 0.5189 - acc: 0.7474 - val_loss: 0.5823 - val_acc: 0.7208\n",
      "Epoch 83/100\n",
      "2466/2466 [==============================] - 9s 4ms/step - loss: 0.5209 - acc: 0.7543 - val_loss: 0.5820 - val_acc: 0.7153\n",
      "Epoch 84/100\n",
      "2466/2466 [==============================] - 8s 3ms/step - loss: 0.5223 - acc: 0.7468 - val_loss: 0.5831 - val_acc: 0.7190\n",
      "Epoch 85/100\n",
      "2466/2466 [==============================] - 8s 3ms/step - loss: 0.5253 - acc: 0.7461 - val_loss: 0.5850 - val_acc: 0.7190\n",
      "Epoch 86/100\n",
      "2466/2466 [==============================] - 8s 3ms/step - loss: 0.5210 - acc: 0.7445 - val_loss: 0.5847 - val_acc: 0.7172\n",
      "Epoch 87/100\n",
      "2466/2466 [==============================] - 8s 3ms/step - loss: 0.5162 - acc: 0.7609 - val_loss: 0.5841 - val_acc: 0.7226\n",
      "Epoch 88/100\n",
      "2466/2466 [==============================] - 8s 3ms/step - loss: 0.5203 - acc: 0.7496 - val_loss: 0.5856 - val_acc: 0.7190\n",
      "Epoch 89/100\n",
      "2466/2466 [==============================] - 8s 3ms/step - loss: 0.5196 - acc: 0.7573 - val_loss: 0.5870 - val_acc: 0.7153\n",
      "Epoch 90/100\n",
      "2466/2466 [==============================] - 8s 3ms/step - loss: 0.5228 - acc: 0.7461 - val_loss: 0.5873 - val_acc: 0.7135\n",
      "Epoch 91/100\n",
      "2466/2466 [==============================] - 9s 3ms/step - loss: 0.5111 - acc: 0.7549 - val_loss: 0.5876 - val_acc: 0.7172\n",
      "Epoch 92/100\n",
      "2466/2466 [==============================] - 8s 3ms/step - loss: 0.5152 - acc: 0.7555 - val_loss: 0.5879 - val_acc: 0.7153\n",
      "Epoch 93/100\n",
      "2466/2466 [==============================] - 8s 3ms/step - loss: 0.5117 - acc: 0.7575 - val_loss: 0.5871 - val_acc: 0.7190\n",
      "Epoch 94/100\n",
      "2466/2466 [==============================] - 8s 3ms/step - loss: 0.5101 - acc: 0.7539 - val_loss: 0.5866 - val_acc: 0.7172\n",
      "Epoch 95/100\n",
      "2466/2466 [==============================] - 8s 3ms/step - loss: 0.5037 - acc: 0.7609 - val_loss: 0.5870 - val_acc: 0.7336\n",
      "Epoch 96/100\n",
      "2466/2466 [==============================] - 8s 3ms/step - loss: 0.5070 - acc: 0.7536 - val_loss: 0.5862 - val_acc: 0.7299\n",
      "Epoch 97/100\n",
      "2466/2466 [==============================] - 9s 4ms/step - loss: 0.4914 - acc: 0.7735 - val_loss: 0.5865 - val_acc: 0.7263\n",
      "Epoch 98/100\n",
      "2466/2466 [==============================] - 8s 3ms/step - loss: 0.4991 - acc: 0.7666 - val_loss: 0.5871 - val_acc: 0.7299\n",
      "Epoch 99/100\n",
      "2466/2466 [==============================] - 8s 3ms/step - loss: 0.4967 - acc: 0.7703 - val_loss: 0.5884 - val_acc: 0.7299\n",
      "Epoch 100/100\n",
      "2466/2466 [==============================] - 8s 3ms/step - loss: 0.4992 - acc: 0.7593 - val_loss: 0.5897 - val_acc: 0.7299\n"
     ]
    }
   ],
   "source": [
    "num_epochs = 100 #23 #35 # 30, 25 #50, 20, 30\n",
    "batch_size = 512# 256 #512 # 128, 256\n",
    "hist = model.fit(x_train, \n",
    "                 y_tr, \n",
    "                 epochs=num_epochs, \n",
    "                 validation_split=0.1, \n",
    "                 shuffle=True, \n",
    "                 batch_size=batch_size)"
   ]
  },
  {
   "cell_type": "code",
   "execution_count": 40,
   "metadata": {},
   "outputs": [
    {
     "data": {
      "image/png": "[encoded data removed]",
      "text/plain": [
       "<Figure size 432x288 with 1 Axes>"
      ]
     },
     "metadata": {
      "needs_background": "light"
     },
     "output_type": "display_data"
    },
    {
     "data": {
      "image/png": "[encoded data removed]",
      "text/plain": [
       "<Figure size 432x288 with 1 Axes>"
      ]
     },
     "metadata": {
      "needs_background": "light"
     },
     "output_type": "display_data"
    }
   ],
   "source": [
    "plt.title('Loss')\n",
    "plt.plot(hist.history['loss'], label='train')\n",
    "plt.plot(hist.history['val_loss'], label='test')\n",
    "plt.legend()\n",
    "plt.show()\n",
    "plt.title('Accuracy')\n",
    "plt.plot(hist.history['acc'], label='train')\n",
    "plt.plot(hist.history['val_acc'], label='test')\n",
    "plt.legend()\n",
    "plt.show()"
   ]
  },
  {
   "cell_type": "markdown",
   "metadata": {},
   "source": [
    "decrese number of dense layers to avoid complex model\n",
    "use SPacy to select"
   ]
  },
  {
   "cell_type": "markdown",
   "metadata": {},
   "source": [
    "## testing model"
   ]
  },
  {
   "cell_type": "code",
   "execution_count": null,
   "metadata": {},
   "outputs": [],
   "source": []
  },
  {
   "cell_type": "code",
   "execution_count": 41,
   "metadata": {},
   "outputs": [
    {
     "data": {
      "text/plain": [
       "0.6921487603305785"
      ]
     },
     "execution_count": 41,
     "metadata": {},
     "output_type": "execute_result"
    }
   ],
   "source": [
    "predictions = model.predict(test_cnn_data, \n",
    "                            batch_size=128, \n",
    "                            verbose=2)\n",
    "labels = [1, 0]\n",
    "prediction_labels=[]\n",
    "for p in predictions:\n",
    "    prediction_labels.append(labels[np.argmax(p)])\n",
    "sum(data_test.Label==prediction_labels)/len(prediction_labels)"
   ]
  },
  {
   "cell_type": "code",
   "execution_count": 42,
   "metadata": {},
   "outputs": [
    {
     "name": "stdout",
     "output_type": "stream",
     "text": [
      "Accuracy: 69.11%\n"
     ]
    }
   ],
   "source": [
    "y_test = data_test[label_names].values\n",
    "# Getting score metrics from our model\n",
    "scores = model.evaluate(test_cnn_data, y_test, verbose=2)\n",
    "# Displays the accuracy of correct sentiment prediction over test data\n",
    "print(\"Accuracy: %.2f%%\" % (scores[1]*100))"
   ]
  },
  {
   "cell_type": "code",
   "execution_count": 43,
   "metadata": {},
   "outputs": [
    {
     "name": "stdout",
     "output_type": "stream",
     "text": [
      "              precision    recall  f1-score   support\n",
      "\n",
      "           0       0.69      0.72      0.70       247\n",
      "           1       0.69      0.67      0.68       237\n",
      "\n",
      "    accuracy                           0.69       484\n",
      "   macro avg       0.69      0.69      0.69       484\n",
      "weighted avg       0.69      0.69      0.69       484\n",
      "\n"
     ]
    }
   ],
   "source": [
    "from sklearn.metrics import f1_score, classification_report\n",
    "\n",
    "print(classification_report(data_test.Label, prediction_labels))"
   ]
  },
  {
   "cell_type": "code",
   "execution_count": null,
   "metadata": {},
   "outputs": [],
   "source": []
  },
  {
   "cell_type": "code",
   "execution_count": 44,
   "metadata": {},
   "outputs": [
    {
     "name": "stdout",
     "output_type": "stream",
     "text": [
      "Use Keras to save\n"
     ]
    }
   ],
   "source": [
    "model.save(\"model1.h5\")\n",
    "print(\"Use Keras to save\")"
   ]
  },
  {
   "cell_type": "code",
   "execution_count": 45,
   "metadata": {},
   "outputs": [
    {
     "name": "stdout",
     "output_type": "stream",
     "text": [
      "Model: \"model_1\"\n",
      "_________________________________________________________________\n",
      "Layer (type)                 Output Shape              Param #   \n",
      "=================================================================\n",
      "input_1 (InputLayer)         (None, 200)               0         \n",
      "_________________________________________________________________\n",
      "embedding_1 (Embedding)      (None, 200, 300)          17831100  \n",
      "_________________________________________________________________\n",
      "conv1d_1 (Conv1D)            (None, 200, 32)           28832     \n",
      "_________________________________________________________________\n",
      "max_pooling1d_1 (MaxPooling1 (None, 100, 32)           0         \n",
      "_________________________________________________________________\n",
      "dropout_1 (Dropout)          (None, 100, 32)           0         \n",
      "_________________________________________________________________\n",
      "lstm_1 (LSTM)                (None, 150)               109800    \n",
      "_________________________________________________________________\n",
      "dense_1 (Dense)              (None, 2)                 302       \n",
      "=================================================================\n",
      "Total params: 17,970,034\n",
      "Trainable params: 138,934\n",
      "Non-trainable params: 17,831,100\n",
      "_________________________________________________________________\n"
     ]
    }
   ],
   "source": [
    "from keras.models import load_model\n",
    "model1 = load_model('model1.h5')\n",
    "model1.summary()"
   ]
  },
  {
   "cell_type": "code",
   "execution_count": 46,
   "metadata": {},
   "outputs": [
    {
     "name": "stdout",
     "output_type": "stream",
     "text": [
      "save model to disk\n"
     ]
    }
   ],
   "source": [
    "from keras.models import model_from_json\n",
    "model_json = model.to_json()\n",
    "with open(\"model.json\", \"w\") as json_file:\n",
    "    json_file.write(model_json)\n",
    "#serialize weights to hdf5\n",
    "model.save_weights(\"model.h5\")\n",
    "print(\"save model to disk\")"
   ]
  },
  {
   "cell_type": "code",
   "execution_count": 47,
   "metadata": {},
   "outputs": [
    {
     "name": "stdout",
     "output_type": "stream",
     "text": [
      "Loaded model from disk\n"
     ]
    }
   ],
   "source": [
    "from keras.models import model_from_json\n",
    "#load json and create model\n",
    "json_file = open('model.json', 'r')\n",
    "loaded_model_json = json_file.read()\n",
    "json_file.close()\n",
    "loaded_model = model_from_json(loaded_model_json)\n",
    "#load weights into new model\n",
    "loaded_model.load_weights(\"model.h5\")\n",
    "print(\"Loaded model from disk\")"
   ]
  },
  {
   "cell_type": "code",
   "execution_count": 48,
   "metadata": {},
   "outputs": [
    {
     "ename": "RuntimeError",
     "evalue": "You must compile a model before training/testing. Use `model.compile(optimizer, loss)`.",
     "output_type": "error",
     "traceback": [
      "\u001b[0;31m---------------------------------------------------------------------------\u001b[0m",
      "\u001b[0;31mRuntimeError\u001b[0m                              Traceback (most recent call last)",
      "\u001b[0;32m<ipython-input-48-d068b7cef53d>\u001b[0m in \u001b[0;36m<module>\u001b[0;34m\u001b[0m\n\u001b[1;32m      1\u001b[0m \u001b[0my_test\u001b[0m \u001b[0;34m=\u001b[0m \u001b[0mdata_test\u001b[0m\u001b[0;34m[\u001b[0m\u001b[0mlabel_names\u001b[0m\u001b[0;34m]\u001b[0m\u001b[0;34m.\u001b[0m\u001b[0mvalues\u001b[0m\u001b[0;34m\u001b[0m\u001b[0;34m\u001b[0m\u001b[0m\n\u001b[1;32m      2\u001b[0m \u001b[0;31m# Getting score metrics from our model\u001b[0m\u001b[0;34m\u001b[0m\u001b[0;34m\u001b[0m\u001b[0;34m\u001b[0m\u001b[0m\n\u001b[0;32m----> 3\u001b[0;31m \u001b[0mscores\u001b[0m \u001b[0;34m=\u001b[0m \u001b[0mloaded_model\u001b[0m\u001b[0;34m.\u001b[0m\u001b[0mevaluate\u001b[0m\u001b[0;34m(\u001b[0m\u001b[0mtest_cnn_data\u001b[0m\u001b[0;34m,\u001b[0m \u001b[0my_test\u001b[0m\u001b[0;34m,\u001b[0m \u001b[0mverbose\u001b[0m\u001b[0;34m=\u001b[0m\u001b[0;36m2\u001b[0m\u001b[0;34m)\u001b[0m\u001b[0;34m\u001b[0m\u001b[0;34m\u001b[0m\u001b[0m\n\u001b[0m",
      "\u001b[0;32m~/anaconda3/envs/Data-mining/lib/python3.7/site-packages/keras/engine/training.py\u001b[0m in \u001b[0;36mevaluate\u001b[0;34m(self, x, y, batch_size, verbose, sample_weight, steps, callbacks, max_queue_size, workers, use_multiprocessing)\u001b[0m\n\u001b[1;32m   1347\u001b[0m             \u001b[0mx\u001b[0m\u001b[0;34m,\u001b[0m \u001b[0my\u001b[0m\u001b[0;34m,\u001b[0m\u001b[0;34m\u001b[0m\u001b[0;34m\u001b[0m\u001b[0m\n\u001b[1;32m   1348\u001b[0m             \u001b[0msample_weight\u001b[0m\u001b[0;34m=\u001b[0m\u001b[0msample_weight\u001b[0m\u001b[0;34m,\u001b[0m\u001b[0;34m\u001b[0m\u001b[0;34m\u001b[0m\u001b[0m\n\u001b[0;32m-> 1349\u001b[0;31m             batch_size=batch_size)\n\u001b[0m\u001b[1;32m   1350\u001b[0m         \u001b[0;31m# Prepare inputs, delegate logic to `test_loop`.\u001b[0m\u001b[0;34m\u001b[0m\u001b[0;34m\u001b[0m\u001b[0;34m\u001b[0m\u001b[0m\n\u001b[1;32m   1351\u001b[0m         \u001b[0;32mif\u001b[0m \u001b[0mself\u001b[0m\u001b[0;34m.\u001b[0m\u001b[0m_uses_dynamic_learning_phase\u001b[0m\u001b[0;34m(\u001b[0m\u001b[0;34m)\u001b[0m\u001b[0;34m:\u001b[0m\u001b[0;34m\u001b[0m\u001b[0;34m\u001b[0m\u001b[0m\n",
      "\u001b[0;32m~/anaconda3/envs/Data-mining/lib/python3.7/site-packages/keras/engine/training.py\u001b[0m in \u001b[0;36m_standardize_user_data\u001b[0;34m(self, x, y, sample_weight, class_weight, check_array_lengths, batch_size)\u001b[0m\n\u001b[1;32m    506\u001b[0m         \u001b[0;32mif\u001b[0m \u001b[0my\u001b[0m \u001b[0;32mis\u001b[0m \u001b[0;32mnot\u001b[0m \u001b[0;32mNone\u001b[0m\u001b[0;34m:\u001b[0m\u001b[0;34m\u001b[0m\u001b[0;34m\u001b[0m\u001b[0m\n\u001b[1;32m    507\u001b[0m             \u001b[0;32mif\u001b[0m \u001b[0;32mnot\u001b[0m \u001b[0mself\u001b[0m\u001b[0;34m.\u001b[0m\u001b[0moptimizer\u001b[0m\u001b[0;34m:\u001b[0m\u001b[0;34m\u001b[0m\u001b[0;34m\u001b[0m\u001b[0m\n\u001b[0;32m--> 508\u001b[0;31m                 raise RuntimeError('You must compile a model before '\n\u001b[0m\u001b[1;32m    509\u001b[0m                                    \u001b[0;34m'training/testing. '\u001b[0m\u001b[0;34m\u001b[0m\u001b[0;34m\u001b[0m\u001b[0m\n\u001b[1;32m    510\u001b[0m                                    'Use `model.compile(optimizer, loss)`.')\n",
      "\u001b[0;31mRuntimeError\u001b[0m: You must compile a model before training/testing. Use `model.compile(optimizer, loss)`."
     ]
    }
   ],
   "source": [
    "y_test = data_test[label_names].values\n",
    "# Getting score metrics from our model\n",
    "scores = loaded_model.evaluate(test_cnn_data, y_test, verbose=2)"
   ]
  },
  {
   "cell_type": "code",
   "execution_count": null,
   "metadata": {},
   "outputs": [],
   "source": []
  },
  {
   "cell_type": "code",
   "execution_count": null,
   "metadata": {},
   "outputs": [],
   "source": []
  },
  {
   "cell_type": "code",
   "execution_count": null,
   "metadata": {},
   "outputs": [],
   "source": []
  },
  {
   "cell_type": "code",
   "execution_count": null,
   "metadata": {},
   "outputs": [],
   "source": []
  },
  {
   "cell_type": "code",
   "execution_count": null,
   "metadata": {},
   "outputs": [],
   "source": []
  },
  {
   "cell_type": "code",
   "execution_count": null,
   "metadata": {},
   "outputs": [],
   "source": []
  },
  {
   "cell_type": "code",
   "execution_count": null,
   "metadata": {},
   "outputs": [],
   "source": []
  },
  {
   "cell_type": "code",
   "execution_count": null,
   "metadata": {},
   "outputs": [],
   "source": []
  },
  {
   "cell_type": "code",
   "execution_count": null,
   "metadata": {},
   "outputs": [],
   "source": []
  },
  {
   "cell_type": "code",
   "execution_count": null,
   "metadata": {},
   "outputs": [],
   "source": []
  }
 ],
 "metadata": {
  "kernelspec": {
   "display_name": "Python 3",
   "language": "python",
   "name": "python3"
  },
  "language_info": {
   "codemirror_mode": {
    "name": "ipython",
    "version": 3
   },
   "file_extension": ".py",
   "mimetype": "text/x-python",
   "name": "python",
   "nbconvert_exporter": "python",
   "pygments_lexer": "ipython3",
   "version": "3.7.8"
  }
 },
 "nbformat": 4,
 "nbformat_minor": 4
}
